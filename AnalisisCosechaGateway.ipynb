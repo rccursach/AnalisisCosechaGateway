{
 "cells": [
  {
   "cell_type": "code",
   "execution_count": 27,
   "metadata": {},
   "outputs": [
    {
     "name": "stdout",
     "output_type": "stream",
     "text": [
      "  device_id          ts   bat  acc1  acc2  acc3  acc4  acc5           wei  \\\n",
      "0  f4f4f4f4  1543830282  3718   600     0     0     0     0  2.802597e-45   \n",
      "\n",
      "   tmp1  tmp2  tmp3  lat  lon  ts_gps checksum  \n",
      "0   351   352   361  0.0  0.0       0       df  \n"
     ]
    }
   ],
   "source": [
    "import pandas as pd\n",
    "\n",
    "# Read raw dataset\n",
    "rd = pd.read_csv(\"data/camp1_readings.csv\")\n",
    "print(rd.head(1))"
   ]
  },
  {
   "cell_type": "code",
   "execution_count": 39,
   "metadata": {},
   "outputs": [],
   "source": [
    "# Convert unix timestamp to date\n",
    "\n",
    "rd['date'] = pd.to_datetime(rd['ts'],unit='s')\n",
    "# print(rd['date'])"
   ]
  },
  {
   "cell_type": "code",
   "execution_count": 40,
   "metadata": {},
   "outputs": [
    {
     "name": "stdout",
     "output_type": "stream",
     "text": [
      "  device_id          ts   bat  acc1  acc2  acc3  acc4  acc5           wei  \\\n",
      "0  f4f4f4f4  1543830282  3718   600     0     0     0     0  2.802597e-45   \n",
      "\n",
      "       tmp1   tmp2      tmp3  lat  lon  ts_gps checksum                date  \\\n",
      "0  1.371094  1.375  1.410156  0.0  0.0       0       df 2018-12-03 09:44:42   \n",
      "\n",
      "          day      hour  \n",
      "0  2018-12-03  09:44:42  \n"
     ]
    }
   ],
   "source": [
    "# temperature = tmpX / 16\n",
    "\n",
    "rd['tmp1'] = rd['tmp1'] / 16\n",
    "rd['tmp2'] = rd['tmp2'] / 16\n",
    "rd['tmp3'] = rd['tmp3'] / 16\n",
    "\n",
    "print(rd.head(1))"
   ]
  },
  {
   "cell_type": "code",
   "execution_count": 41,
   "metadata": {},
   "outputs": [
    {
     "data": {
      "text/plain": [
       "array([datetime.date(2018, 12, 3), datetime.date(2019, 2, 14),\n",
       "       datetime.date(2018, 12, 6), datetime.date(2018, 12, 7),\n",
       "       datetime.date(2018, 12, 13), datetime.date(2018, 12, 14)],\n",
       "      dtype=object)"
      ]
     },
     "execution_count": 41,
     "metadata": {},
     "output_type": "execute_result"
    }
   ],
   "source": [
    "# split day and hour\n",
    "\n",
    "rd['day'] = [d.date() for d in rd['date']]\n",
    "rd['hour'] = [d.time() for d in rd['date']]\n",
    "rd.day.unique()"
   ]
  },
  {
   "cell_type": "code",
   "execution_count": 44,
   "metadata": {},
   "outputs": [
    {
     "data": {
      "text/plain": [
       "array(['f3f3f3f3', 'f2f2f2f2', 'f5f5f5f5', 'f4f4f4f4', 'f6f6f6f6',\n",
       "       'f7f7f7f7'], dtype=object)"
      ]
     },
     "execution_count": 44,
     "metadata": {},
     "output_type": "execute_result"
    }
   ],
   "source": [
    "import datetime\n",
    "\n",
    "day_one = rd.loc[rd.day == datetime.date(2018, 12, 13)]\n",
    "day_one.day.unique()\n",
    "day_one.device_id.unique()"
   ]
  },
  {
   "cell_type": "code",
   "execution_count": null,
   "metadata": {},
   "outputs": [],
   "source": []
  }
 ],
 "metadata": {
  "kernelspec": {
   "display_name": "Python 3",
   "language": "python",
   "name": "python3"
  },
  "language_info": {
   "codemirror_mode": {
    "name": "ipython",
    "version": 3
   },
   "file_extension": ".py",
   "mimetype": "text/x-python",
   "name": "python",
   "nbconvert_exporter": "python",
   "pygments_lexer": "ipython3",
   "version": "3.7.2"
  }
 },
 "nbformat": 4,
 "nbformat_minor": 2
}
